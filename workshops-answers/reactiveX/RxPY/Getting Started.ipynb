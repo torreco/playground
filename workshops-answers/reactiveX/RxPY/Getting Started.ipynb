{
 "cells": [
  {
   "cell_type": "markdown",
   "metadata": {},
   "source": [
    "# Getting Started with RxPY"
   ]
  },
  {
   "cell_type": "markdown",
   "metadata": {},
   "source": [
    "RxPY is a port of ReactiveX to Python. Learning Rx with Python is particularly interesting since Python removes much of the clutter that comes with statically typed languages."
   ]
  },
  {
   "cell_type": "markdown",
   "metadata": {},
   "source": [
    "## Importing the Rx module"
   ]
  },
  {
   "cell_type": "code",
   "execution_count": 2,
   "metadata": {
    "collapsed": true
   },
   "outputs": [],
   "source": [
    "import rx\n",
    "from rx import Observable, Observer\n",
    "from rx.subjects import Subject, BehaviorSubject, ReplaySubject, AsyncSubject\n",
    "from rx.testing import marbles"
   ]
  },
  {
   "cell_type": "markdown",
   "metadata": {},
   "source": [
    "## Generating an observable"
   ]
  },
  {
   "cell_type": "code",
   "execution_count": 3,
   "metadata": {
    "collapsed": true
   },
   "outputs": [],
   "source": [
    "observable = Observable.from_marbles(\"1-2-3-4-5-|\")"
   ]
  },
  {
   "cell_type": "markdown",
   "metadata": {},
   "source": [
    "## Generating an observer"
   ]
  },
  {
   "cell_type": "code",
   "execution_count": 4,
   "metadata": {
    "collapsed": true
   },
   "outputs": [],
   "source": [
    "class MyObserver(Observer):\n",
    "    def on_next(self, x):\n",
    "        print(\"Got: %s\" % x)\n",
    "        \n",
    "    def on_error(self, e):\n",
    "        print(\"Got error: %s\" % e)\n",
    "        \n",
    "    def on_completed(self):\n",
    "        print(\"Sequence completed\")"
   ]
  },
  {
   "cell_type": "code",
   "execution_count": 5,
   "metadata": {
    "collapsed": false
   },
   "outputs": [
    {
     "name": "stdout",
     "output_type": "stream",
     "text": [
      "Got: 1\n"
     ]
    },
    {
     "data": {
      "text/plain": [
       "<rx.disposables.anonymousdisposable.AnonymousDisposable at 0x10cda1090>"
      ]
     },
     "execution_count": 5,
     "metadata": {},
     "output_type": "execute_result"
    },
    {
     "name": "stdout",
     "output_type": "stream",
     "text": [
      "Got: 2\n",
      "Got: 3\n",
      "Got: 4\n",
      "Got: 5\n",
      "Sequence completed\n"
     ]
    }
   ],
   "source": [
    "observable.subscribe(MyObserver())"
   ]
  },
  {
   "cell_type": "markdown",
   "metadata": {},
   "source": [
    "## Operators"
   ]
  },
  {
   "cell_type": "markdown",
   "metadata": {},
   "source": [
    "### Transforming operators"
   ]
  },
  {
   "cell_type": "code",
   "execution_count": 6,
   "metadata": {
    "collapsed": false
   },
   "outputs": [
    {
     "data": {
      "text/plain": [
       "<rx.disposables.anonymousdisposable.AnonymousDisposable at 0x10cdc3ed0>"
      ]
     },
     "execution_count": 6,
     "metadata": {},
     "output_type": "execute_result"
    },
    {
     "name": "stdout",
     "output_type": "stream",
     "text": [
      "Got: 1\n",
      "Got: 4\n",
      "Got: 9\n",
      "Got: 16\n",
      "Got: 25\n",
      "Sequence completed\n"
     ]
    }
   ],
   "source": [
    "observable = Observable.from_marbles(\"1-2-3-4-5-|\")\n",
    "observable.map(\n",
    "    lambda x, i: int(x)\n",
    ").map(\n",
    "    lambda x, i: x ** 2\n",
    ").subscribe(MyObserver())"
   ]
  },
  {
   "cell_type": "markdown",
   "metadata": {},
   "source": [
    "### Filtering operators"
   ]
  },
  {
   "cell_type": "code",
   "execution_count": 7,
   "metadata": {
    "collapsed": false
   },
   "outputs": [
    {
     "data": {
      "text/plain": [
       "<rx.disposables.anonymousdisposable.AnonymousDisposable at 0x10cdd1f10>"
      ]
     },
     "execution_count": 7,
     "metadata": {},
     "output_type": "execute_result"
    },
    {
     "name": "stdout",
     "output_type": "stream",
     "text": [
      "Got: 1\n",
      "Got: 4\n",
      "Got: 9\n",
      "Sequence completed\n"
     ]
    }
   ],
   "source": [
    "observable = Observable.from_marbles(\"1-2-3-4-5-|\")\n",
    "observable.map(\n",
    "    lambda x, i: int(x)\n",
    ").map(\n",
    "    lambda x, i: x ** 2\n",
    ").filter(\n",
    "    lambda x: x < 20\n",
    ").take(3).subscribe(MyObserver())"
   ]
  },
  {
   "cell_type": "markdown",
   "metadata": {},
   "source": [
    "### Combining operators"
   ]
  },
  {
   "cell_type": "code",
   "execution_count": 8,
   "metadata": {
    "collapsed": false
   },
   "outputs": [
    {
     "name": "stdout",
     "output_type": "stream",
     "text": [
      "Got: 1\n"
     ]
    },
    {
     "data": {
      "text/plain": [
       "<rx.disposables.anonymousdisposable.AnonymousDisposable at 0x10cdce8d0>"
      ]
     },
     "execution_count": 8,
     "metadata": {},
     "output_type": "execute_result"
    },
    {
     "name": "stdout",
     "output_type": "stream",
     "text": [
      "Got: 2\n",
      "Got: 3\n",
      "Got: 4\n",
      "Got: 5\n",
      "Got: 9\n",
      "Got: 16\n",
      "Got: 25\n",
      "Got: 36\n",
      "Got: 49\n",
      "Got: 64\n",
      "Got: 81\n",
      "Got: 100\n",
      "Sequence completed\n"
     ]
    }
   ],
   "source": [
    "observable = Observable.from_marbles(\"1-2-3-4-5-6-7-8-9-10|\")\n",
    "observable.map(\n",
    "    lambda x, i: int(x)\n",
    ").map(\n",
    "    lambda x, i: x ** 2\n",
    ").take_last(8).merge(Observable.from_marbles(\"1-2-3-4-5-|\")).subscribe(MyObserver())"
   ]
  },
  {
   "cell_type": "code",
   "execution_count": 10,
   "metadata": {
    "collapsed": false
   },
   "outputs": [
    {
     "data": {
      "text/plain": [
       "<rx.disposables.anonymousdisposable.AnonymousDisposable at 0x10ce06190>"
      ]
     },
     "execution_count": 10,
     "metadata": {},
     "output_type": "execute_result"
    },
    {
     "name": "stdout",
     "output_type": "stream",
     "text": [
      "Got: 1\n",
      "Got: 2\n",
      "Got: 3\n",
      "Got: 4\n",
      "Got: 5\n",
      "Got: 6\n"
     ]
    }
   ],
   "source": [
    "observable = Observable.from_marbles(\"1-2-3-4-5-6-7-8-9-10-|\")\n",
    "observable.sample(sampler=Observable.from_marbles(\"1-2-3-4-5-|\")).subscribe(MyObserver())"
   ]
  },
  {
   "cell_type": "code",
   "execution_count": 11,
   "metadata": {
    "collapsed": false,
    "scrolled": true
   },
   "outputs": [
    {
     "data": {
      "text/plain": [
       "<rx.disposables.anonymousdisposable.AnonymousDisposable at 0x10ce2c490>"
      ]
     },
     "execution_count": 11,
     "metadata": {},
     "output_type": "execute_result"
    },
    {
     "name": "stdout",
     "output_type": "stream",
     "text": [
      "Got: 5\n",
      "Got: 10\n",
      "Sequence completed\n"
     ]
    }
   ],
   "source": [
    "observable = Observable.from_marbles(\"1-2-3-4-5-6-7-8-9-10-|\")\n",
    "observable.sample(500).subscribe(MyObserver())"
   ]
  },
  {
   "cell_type": "markdown",
   "metadata": {},
   "source": [
    "### Mathematical operators"
   ]
  },
  {
   "cell_type": "code",
   "execution_count": 12,
   "metadata": {
    "collapsed": false
   },
   "outputs": [
    {
     "data": {
      "text/plain": [
       "<rx.disposables.anonymousdisposable.AnonymousDisposable at 0x10ce2cdd0>"
      ]
     },
     "execution_count": 12,
     "metadata": {},
     "output_type": "execute_result"
    },
    {
     "name": "stdout",
     "output_type": "stream",
     "text": [
      "Got: 47.5\n",
      "Sequence completed\n"
     ]
    }
   ],
   "source": [
    "observable = Observable.from_marbles(\"1-2-3-4-5-6-7-8-9-10|\")\n",
    "observable.map(\n",
    "    lambda x, i: int(x)\n",
    ").map(\n",
    "    lambda x, i: x ** 2\n",
    ").take_last(8).average().subscribe(MyObserver())"
   ]
  },
  {
   "cell_type": "markdown",
   "metadata": {},
   "source": [
    "## Subjects(Observer and Observables)"
   ]
  },
  {
   "cell_type": "markdown",
   "metadata": {},
   "source": [
    "Subject is both an Observable and an Observer, so you can both subscribe to it and on_next it with events. This makes it an obvious candidate if need to publish values into an observable stream for processing:"
   ]
  },
  {
   "cell_type": "code",
   "execution_count": 14,
   "metadata": {
    "collapsed": false
   },
   "outputs": [
    {
     "name": "stdout",
     "output_type": "stream",
     "text": [
      "Got: 42\n"
     ]
    }
   ],
   "source": [
    "stream = Subject()\n",
    "stream.on_next(41)\n",
    "\n",
    "d = stream.subscribe(MyObserver())\n",
    "\n",
    "stream.on_next(42)\n",
    "\n",
    "d.dispose()\n",
    "stream.on_next(43)"
   ]
  },
  {
   "cell_type": "code",
   "execution_count": 15,
   "metadata": {
    "collapsed": false
   },
   "outputs": [
    {
     "data": {
      "text/plain": [
       "<rx.disposables.anonymousdisposable.AnonymousDisposable at 0x10ce42890>"
      ]
     },
     "execution_count": 15,
     "metadata": {},
     "output_type": "execute_result"
    },
    {
     "name": "stdout",
     "output_type": "stream",
     "text": [
      "Got: 1\n",
      "Got: 2\n",
      "Got: 3\n",
      "Got: 4\n",
      "Got: 5\n",
      "Got: 6\n",
      "Got: 7\n",
      "Got: 8\n",
      "Got: 9\n",
      "Got: 10\n",
      "Sequence completed\n"
     ]
    }
   ],
   "source": [
    "observable = Observable.from_marbles(\"1-2-3-4-5-6-7-8-9-10-|\")\n",
    "stream = Subject()\n",
    "d = stream.subscribe(MyObserver())\n",
    "observable.subscribe(stream)"
   ]
  },
  {
   "cell_type": "code",
   "execution_count": 13,
   "metadata": {
    "collapsed": true
   },
   "outputs": [],
   "source": [
    "d.dispose()"
   ]
  },
  {
   "cell_type": "code",
   "execution_count": 17,
   "metadata": {
    "collapsed": false
   },
   "outputs": [
    {
     "data": {
      "text/plain": [
       "<rx.disposables.anonymousdisposable.AnonymousDisposable at 0x10ce6ed50>"
      ]
     },
     "execution_count": 17,
     "metadata": {},
     "output_type": "execute_result"
    },
    {
     "name": "stdout",
     "output_type": "stream",
     "text": [
      "Got: 1\n",
      "Got: 2\n",
      "Got: 3\n",
      "Got: 4\n",
      "Got: 5\n",
      "Got: 6\n",
      "Got: 7\n",
      "Got: 8\n",
      "Got: 9\n",
      "Got: 10\n",
      "Sequence completed\n"
     ]
    }
   ],
   "source": [
    "observable = Observable.from_marbles(\"1-2-3-4-5-6-7-8-9-10-|\")\n",
    "stream = ReplaySubject()\n",
    "d = stream.subscribe(MyObserver())\n",
    "observable.subscribe(stream)"
   ]
  },
  {
   "cell_type": "code",
   "execution_count": 18,
   "metadata": {
    "collapsed": true
   },
   "outputs": [],
   "source": [
    "d.dispose()"
   ]
  },
  {
   "cell_type": "code",
   "execution_count": 21,
   "metadata": {
    "collapsed": false
   },
   "outputs": [
    {
     "name": "stdout",
     "output_type": "stream",
     "text": [
      "Got: 1\n",
      "Got: 4\n",
      "Got: 9\n",
      "Got: 16\n",
      "Got: 25\n",
      "Got: 36\n",
      "Got: 49\n",
      "Got: 64\n",
      "Got: 81\n",
      "Got: 100\n",
      "Sequence completed\n"
     ]
    }
   ],
   "source": [
    "d = stream.map(lambda x, i: int(x) ** 2).subscribe(MyObserver())"
   ]
  },
  {
   "cell_type": "code",
   "execution_count": 22,
   "metadata": {
    "collapsed": true
   },
   "outputs": [],
   "source": [
    "d.dispose()"
   ]
  },
  {
   "cell_type": "code",
   "execution_count": 23,
   "metadata": {
    "collapsed": false
   },
   "outputs": [
    {
     "data": {
      "text/plain": [
       "<rx.disposables.anonymousdisposable.AnonymousDisposable at 0x10ce55250>"
      ]
     },
     "execution_count": 23,
     "metadata": {},
     "output_type": "execute_result"
    },
    {
     "name": "stdout",
     "output_type": "stream",
     "text": [
      "Got: 10\n",
      "Sequence completed\n"
     ]
    }
   ],
   "source": [
    "observable = Observable.from_marbles(\"1-2-3-4-5-6-7-8-9-10-|\")\n",
    "stream = AsyncSubject()\n",
    "d = stream.subscribe(MyObserver())\n",
    "observable.subscribe(stream)"
   ]
  },
  {
   "cell_type": "code",
   "execution_count": 24,
   "metadata": {
    "collapsed": false
   },
   "outputs": [
    {
     "name": "stdout",
     "output_type": "stream",
     "text": [
      "Got: 2000\n"
     ]
    },
    {
     "data": {
      "text/plain": [
       "<rx.disposables.anonymousdisposable.AnonymousDisposable at 0x10cea7810>"
      ]
     },
     "execution_count": 24,
     "metadata": {},
     "output_type": "execute_result"
    },
    {
     "name": "stdout",
     "output_type": "stream",
     "text": [
      "Got: 1\n",
      "Got: 2\n",
      "Got: 3\n",
      "Got: 4\n",
      "Got: 5\n",
      "Got: 6\n",
      "Got: 7\n",
      "Got: 8\n",
      "Got: 9\n",
      "Got: 10\n",
      "Sequence completed\n"
     ]
    }
   ],
   "source": [
    "observable = Observable.from_marbles(\"1-2-3-4-5-6-7-8-9-10-|\")\n",
    "stream = BehaviorSubject(2000)\n",
    "d = stream.subscribe(MyObserver())\n",
    "observable.subscribe(stream)"
   ]
  },
  {
   "cell_type": "markdown",
   "metadata": {},
   "source": [
    "## Now, shit got real."
   ]
  },
  {
   "cell_type": "code",
   "execution_count": null,
   "metadata": {
    "collapsed": true
   },
   "outputs": [],
   "source": []
  }
 ],
 "metadata": {
  "kernelspec": {
   "display_name": "Python 2",
   "language": "python",
   "name": "python2"
  },
  "language_info": {
   "codemirror_mode": {
    "name": "ipython",
    "version": 2
   },
   "file_extension": ".py",
   "mimetype": "text/x-python",
   "name": "python",
   "nbconvert_exporter": "python",
   "pygments_lexer": "ipython2",
   "version": "2.7.10"
  }
 },
 "nbformat": 4,
 "nbformat_minor": 2
}
